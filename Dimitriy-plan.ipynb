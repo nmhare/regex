{
 "cells": [
  {
   "cell_type": "code",
   "execution_count": 2,
   "metadata": {},
   "outputs": [],
   "source": [
    "import re\n",
    "import spacy\n",
    "import pandas as pd\n",
    "import pyap\n",
    "from bs4 import BeautifulSoup as BS\n",
    "import requests\n",
    "\n",
    "def findallnames(text: str, nlp):\n",
    "    named_entities = []\n",
    "    doc = nlp(text.strip())\n",
    "    for i in doc.ents:\n",
    "         if i.label_ == 'PERSON':                \n",
    "                named_entities.append(str(i))\n",
    "    return named_entities"
   ]
  },
  {
   "cell_type": "code",
   "execution_count": 3,
   "metadata": {},
   "outputs": [],
   "source": [
    "myfile = open('sample_string.txt', 'r')\n",
    "outF = open(\"myOutFile.txt\", \"w\")\n",
    "\n",
    "nlp = spacy.load('en_core_web_sm')"
   ]
  },
  {
   "cell_type": "code",
   "execution_count": 6,
   "metadata": {},
   "outputs": [
    {
     "name": "stdout",
     "output_type": "stream",
     "text": [
      "['alabama', 'al', 'alaska', 'ak', 'arizona', 'az', 'arkansas', 'ar', 'california', 'ca', 'colorado', 'co', 'connecticut', 'ct', 'delaware', 'de', 'florida', 'fl', 'georgia', 'ga', 'hawaii', 'hi', 'idaho', 'id', 'illinois', 'il', 'indiana', 'in', 'iowa', 'ia', 'kansas', 'ks', 'kentucky', 'ky', 'louisiana', 'la', 'maine', 'me', 'maryland', 'md', 'massachusetts', 'ma', 'michigan', 'mi', 'minnesota', 'mn', 'mississippi', 'ms', 'missouri', 'mo', 'montana', 'mt', 'nebraska', 'ne', 'nevada', 'nv', 'new hampshire', 'nh', 'new jersey', 'nj', 'new mexico', 'nm', 'new york', 'ny', 'north carolina', 'nc', 'north dakota', 'nd', 'ohio', 'oh', 'oklahoma', 'ok', 'oregon', 'or', 'pennsylvania', 'pa', 'rhode island', 'ri', 'south carolina', 'sc', 'south dakota', 'sd', 'tennessee', 'tn', 'texas', 'tx', 'utah', 'ut', 'vermont', 'vt', 'virginia', 'va', 'washington', 'wa', 'west virginia', 'wv', 'wisconsin', 'wi', 'wyoming', 'wy', 'district of columbia', 'dc', 'marshall islands', 'mh', 'armed forces africa', 'ae', 'armed forces americas', 'aa', 'armed forces canada', 'ae', 'armed forces europe', 'ae', 'armed forces middle east', 'ae', 'armed forces pacific', 'ap']\n"
     ]
    }
   ],
   "source": [
    "#url = 'https://pe.usps.com/text/pub28/28apb.htm'\n",
    "url = 'https://www.50states.com/abbreviations.htm'\n",
    "r = requests.get(url)\n",
    "data = r.text\n",
    "soup = BS(data)\n",
    "\n",
    "tables = soup.find_all('table')\n",
    "table = tables[0]\n",
    "\n",
    "elements = []\n",
    "\n",
    "rows = table.find_all('tr')\n",
    "for row in rows[1:]:\n",
    "    elems = row.find_all('td')\n",
    "    #print(elems)\n",
    "    for elem in elems:\n",
    "        #print(elem.text.lower())\n",
    "        elements.append(elem.text.lower())\n",
    "        \n",
    "print(elements)"
   ]
  },
  {
   "cell_type": "code",
   "execution_count": 5,
   "metadata": {},
   "outputs": [
    {
     "name": "stdout",
     "output_type": "stream",
     "text": [
      "[' alabama ', ' al ', ' alaska ', ' ak ', ' arizona ', ' az ', ' arkansas ', ' ar ', ' california ', ' ca ', ' colorado ', ' co ', ' connecticut ', ' ct ', ' delaware ', ' de ', ' florida ', ' fl ', ' georgia ', ' ga ', ' hawaii ', ' hi ', ' idaho ', ' id ', ' illinois ', ' il ', ' indiana ', ' in ', ' iowa ', ' ia ', ' kansas ', ' ks ', ' kentucky ', ' ky ', ' louisiana ', ' la ', ' maine ', ' me ', ' maryland ', ' md ', ' massachusetts ', ' ma ', ' michigan ', ' mi ', ' minnesota ', ' mn ', ' mississippi ', ' ms ', ' missouri ', ' mo ', ' montana ', ' mt ', ' nebraska ', ' ne ', ' nevada ', ' nv ', ' new hampshire ', ' nh ', ' new jersey ', ' nj ', ' new mexico ', ' nm ', ' new york ', ' ny ', ' north carolina ', ' nc ', ' north dakota ', ' nd ', ' ohio ', ' oh ', ' oklahoma ', ' ok ', ' oregon ', ' or ', ' pennsylvania ', ' pa ', ' rhode island ', ' ri ', ' south carolina ', ' sc ', ' south dakota ', ' sd ', ' tennessee ', ' tn ', ' texas ', ' tx ', ' utah ', ' ut ', ' vermont ', ' vt ', ' virginia ', ' va ', ' washington ', ' wa ', ' west virginia ', ' wv ', ' wisconsin ', ' wi ', ' wyoming ', ' wy ', ' district of columbia ', ' dc ', ' marshall islands ', ' mh ', ' armed forces africa ', ' ae ', ' armed forces americas ', ' aa ', ' armed forces canada ', ' ae ', ' armed forces europe ', ' ae ', ' armed forces middle east ', ' ae ', ' armed forces pacific ', ' ap ', ' alabama,', ' al,', ' alaska,', ' ak,', ' arizona,', ' az,', ' arkansas,', ' ar,', ' california,', ' ca,', ' colorado,', ' co,', ' connecticut,', ' ct,', ' delaware,', ' de,', ' florida,', ' fl,', ' georgia,', ' ga,', ' hawaii,', ' hi,', ' idaho,', ' id,', ' illinois,', ' il,', ' indiana,', ' in,', ' iowa,', ' ia,', ' kansas,', ' ks,', ' kentucky,', ' ky,', ' louisiana,', ' la,', ' maine,', ' me,', ' maryland,', ' md,', ' massachusetts,', ' ma,', ' michigan,', ' mi,', ' minnesota,', ' mn,', ' mississippi,', ' ms,', ' missouri,', ' mo,', ' montana,', ' mt,', ' nebraska,', ' ne,', ' nevada,', ' nv,', ' new hampshire,', ' nh,', ' new jersey,', ' nj,', ' new mexico,', ' nm,', ' new york,', ' ny,', ' north carolina,', ' nc,', ' north dakota,', ' nd,', ' ohio,', ' oh,', ' oklahoma,', ' ok,', ' oregon,', ' or,', ' pennsylvania,', ' pa,', ' rhode island,', ' ri,', ' south carolina,', ' sc,', ' south dakota,', ' sd,', ' tennessee,', ' tn,', ' texas,', ' tx,', ' utah,', ' ut,', ' vermont,', ' vt,', ' virginia,', ' va,', ' washington,', ' wa,', ' west virginia,', ' wv,', ' wisconsin,', ' wi,', ' wyoming,', ' wy,', ' district of columbia,', ' dc,', ' marshall islands,', ' mh,', ' armed forces africa,', ' ae,', ' armed forces americas,', ' aa,', ' armed forces canada,', ' ae,', ' armed forces europe,', ' ae,', ' armed forces middle east,', ' ae,', ' armed forces pacific,', ' ap,', ' alabama.', ' al.', ' alaska.', ' ak.', ' arizona.', ' az.', ' arkansas.', ' ar.', ' california.', ' ca.', ' colorado.', ' co.', ' connecticut.', ' ct.', ' delaware.', ' de.', ' florida.', ' fl.', ' georgia.', ' ga.', ' hawaii.', ' hi.', ' idaho.', ' id.', ' illinois.', ' il.', ' indiana.', ' in.', ' iowa.', ' ia.', ' kansas.', ' ks.', ' kentucky.', ' ky.', ' louisiana.', ' la.', ' maine.', ' me.', ' maryland.', ' md.', ' massachusetts.', ' ma.', ' michigan.', ' mi.', ' minnesota.', ' mn.', ' mississippi.', ' ms.', ' missouri.', ' mo.', ' montana.', ' mt.', ' nebraska.', ' ne.', ' nevada.', ' nv.', ' new hampshire.', ' nh.', ' new jersey.', ' nj.', ' new mexico.', ' nm.', ' new york.', ' ny.', ' north carolina.', ' nc.', ' north dakota.', ' nd.', ' ohio.', ' oh.', ' oklahoma.', ' ok.', ' oregon.', ' or.', ' pennsylvania.', ' pa.', ' rhode island.', ' ri.', ' south carolina.', ' sc.', ' south dakota.', ' sd.', ' tennessee.', ' tn.', ' texas.', ' tx.', ' utah.', ' ut.', ' vermont.', ' vt.', ' virginia.', ' va.', ' washington.', ' wa.', ' west virginia.', ' wv.', ' wisconsin.', ' wi.', ' wyoming.', ' wy.', ' district of columbia.', ' dc.', ' marshall islands.', ' mh.', ' armed forces africa.', ' ae.', ' armed forces americas.', ' aa.', ' armed forces canada.', ' ae.', ' armed forces europe.', ' ae.', ' armed forces middle east.', ' ae.', ' armed forces pacific.', ' ap.', ' alabama\\n', ' al\\n', ' alaska\\n', ' ak\\n', ' arizona\\n', ' az\\n', ' arkansas\\n', ' ar\\n', ' california\\n', ' ca\\n', ' colorado\\n', ' co\\n', ' connecticut\\n', ' ct\\n', ' delaware\\n', ' de\\n', ' florida\\n', ' fl\\n', ' georgia\\n', ' ga\\n', ' hawaii\\n', ' hi\\n', ' idaho\\n', ' id\\n', ' illinois\\n', ' il\\n', ' indiana\\n', ' in\\n', ' iowa\\n', ' ia\\n', ' kansas\\n', ' ks\\n', ' kentucky\\n', ' ky\\n', ' louisiana\\n', ' la\\n', ' maine\\n', ' me\\n', ' maryland\\n', ' md\\n', ' massachusetts\\n', ' ma\\n', ' michigan\\n', ' mi\\n', ' minnesota\\n', ' mn\\n', ' mississippi\\n', ' ms\\n', ' missouri\\n', ' mo\\n', ' montana\\n', ' mt\\n', ' nebraska\\n', ' ne\\n', ' nevada\\n', ' nv\\n', ' new hampshire\\n', ' nh\\n', ' new jersey\\n', ' nj\\n', ' new mexico\\n', ' nm\\n', ' new york\\n', ' ny\\n', ' north carolina\\n', ' nc\\n', ' north dakota\\n', ' nd\\n', ' ohio\\n', ' oh\\n', ' oklahoma\\n', ' ok\\n', ' oregon\\n', ' or\\n', ' pennsylvania\\n', ' pa\\n', ' rhode island\\n', ' ri\\n', ' south carolina\\n', ' sc\\n', ' south dakota\\n', ' sd\\n', ' tennessee\\n', ' tn\\n', ' texas\\n', ' tx\\n', ' utah\\n', ' ut\\n', ' vermont\\n', ' vt\\n', ' virginia\\n', ' va\\n', ' washington\\n', ' wa\\n', ' west virginia\\n', ' wv\\n', ' wisconsin\\n', ' wi\\n', ' wyoming\\n', ' wy\\n', ' district of columbia\\n', ' dc\\n', ' marshall islands\\n', ' mh\\n', ' armed forces africa\\n', ' ae\\n', ' armed forces americas\\n', ' aa\\n', ' armed forces canada\\n', ' ae\\n', ' armed forces europe\\n', ' ae\\n', ' armed forces middle east\\n', ' ae\\n', ' armed forces pacific\\n', ' ap\\n']\n"
     ]
    }
   ],
   "source": [
    "elems_spaces = [(' ' + elem + ' ') for elem in elements]\n",
    "elems_commas = [(' ' + elem + ',') for elem in elements]\n",
    "elems_periods = [(' ' + elem + '.') for elem in elements]\n",
    "elems_newlines = [(' ' + elem + '\\n') for elem in elements]\n",
    "all_elems = elems_spaces + elems_commas + elems_periods + elems_newlines\n",
    "print(all_elems)"
   ]
  },
  {
   "cell_type": "code",
   "execution_count": 54,
   "metadata": {},
   "outputs": [
    {
     "name": "stdout",
     "output_type": "stream",
     "text": [
      "<p>Apartment - Apt<br/>Avenue - Ave<br/>Boulevard - Blvd<br/>Building - Bldg<br/>Center(s) - Ctr<br/>Circle(s) - Cir<br/>Court - Ct<br/>Drive - Dr<br/>East- E<br/>Expressway - Expy<br/>Extension - Ext<br/>Fort - Ft<br/>Freeway - Fwy<br/>Height(s) - Hts<br/>Highway - Hwy<br/>Island - Is<br/>Junction - Jct<br/>Lane - Ln<br/>Mount(ain) - Mt<br/>North - N<br/>Northeast - NE<br/>Northwest - NW<br/>Parkway Pky<br/>Place - Pl<br/>Post Office - PO<br/>Road - Rd<br/>Rural Delivery - RD<br/>Rural Route - RR<br/>Saint - St<br/>South - S<br/>Southeast - SE<br/>Southwest - SW<br/>Spring - Spg<br/>Springs - Spgs<br/>Square(s) - Sq<br/>Street - St<br/>Suite - Ste<br/>Terrace - Ter<br/>Turnpike - Tpke<br/>West - W</p>\n",
      "['Apartment', 'Apt', 'Avenue', 'Ave', 'Boulevard', 'Blvd', 'Building', 'Bldg', 'Center(s)', 'Ctr', 'Circle(s)', 'Cir', 'Court', 'Ct', 'Drive', 'Dr', 'East- E', 'Expressway', 'Expy', 'Extension', 'Ext', 'Fort', 'Ft', 'Freeway', 'Fwy', 'Height(s)', 'Hts', 'Highway', 'Hwy', 'Island', 'Is', 'Junction', 'Jct', 'Lane', 'Ln', 'Mount(ain)', 'Mt', 'North', 'N', 'Northeast', 'NE', 'Northwest', 'NW', 'Parkway Pky', 'Place', 'Pl', 'Post Office', 'PO', 'Road', 'Rd', 'Rural Delivery', 'RD', 'Rural Route', 'RR', 'Saint', 'St', 'South', 'S', 'Southeast', 'SE', 'Southwest', 'SW', 'Spring', 'Spg', 'Springs', 'Spgs', 'Square(s)', 'Sq', 'Street', 'St', 'Suite', 'Ste', 'Terrace', 'Ter', 'Turnpike', 'Tpke', 'West', 'W']\n"
     ]
    }
   ],
   "source": [
    "url = 'https://wmich.edu/writing/rules/addresses'\n",
    "r = requests.get(url)\n",
    "data = r.text\n",
    "soup = BS(data)\n",
    "grafs = soup.find_all('p')\n",
    "print(grafs[15])\n",
    "\n",
    "graf = grafs[15]\n",
    "new_graf = str(graf).strip('<p>').strip('</p>')\n",
    "graf_list = re.split(' - |<br/>', new_graf)\n",
    "print(graf_list)"
   ]
  },
  {
   "cell_type": "code",
   "execution_count": 26,
   "metadata": {},
   "outputs": [
    {
     "name": "stdout",
     "output_type": "stream",
     "text": [
      "['786', '974', '1856']\n",
      "[]\n",
      "['786', '974', '1856']\n",
      "[]\n",
      "['32541', '785', '741', '9741']\n",
      "['32541']\n",
      "['352', '727', '8118']\n",
      "[]\n",
      "['1234675645']\n",
      "[]\n",
      "[]\n",
      "[]\n",
      "['333', '2451515']\n",
      "[]\n",
      "['555', '555', '555']\n",
      "[]\n",
      "[]\n",
      "[]\n",
      "[]\n",
      "[]\n",
      "[]\n",
      "[]\n",
      "[]\n",
      "[]\n",
      "[]\n",
      "[]\n",
      "[]\n",
      "[]\n",
      "[]\n",
      "[]\n",
      "[]\n",
      "[]\n",
      "[]\n",
      "[]\n",
      "[]\n",
      "[]\n",
      "[]\n",
      "[]\n",
      "[]\n",
      "[]\n",
      "[]\n",
      "[]\n",
      "['1829']\n",
      "[]\n",
      "['1829', '60647']\n",
      "['60647']\n",
      "['1829', '60647']\n",
      "['60647']\n",
      "['1829', '60647']\n",
      "['60647']\n",
      "['1829', '60647']\n",
      "['60647']\n",
      "['1600']\n",
      "[]\n",
      "[]\n",
      "[]\n",
      "['5757', '60637']\n",
      "['60637']\n"
     ]
    }
   ],
   "source": [
    "lines = myfile.readlines()\n",
    "for line in lines:\n",
    "    # credit: u/buckley, \n",
    "    # https://stackoverflow.com/questions/34527917/extracting-phone-numbers-from-a-free-form-text-in-python-by-using-regex    \n",
    "    # credit: u/0x90, \n",
    "    # https://stackoverflow.com/questions/17681670/extract-email-sub-strings-from-large-document\n",
    "    \n",
    "    phone = re.findall(r'\\(?\\b[0-9]{3}\\)?[-./ ]?\\s*[0-9]{3}\\s*[-./ ]?\\s*[0-9]{4}\\b', line)\n",
    "    email = re.findall(r'[\\w.\\-\\+%]+@[\\w\\.\\+]+\\.\\w+', line)\n",
    "    codes = re.findall(r'\\b\\d{3,}\\b', line)\n",
    "    address = pyap.parse(line, country='US')\n",
    "    names = findallnames(line, nlp)\n",
    "    \n",
    "    # looking for potential address indicators\n",
    "    lower_line = line.lower()\n",
    "    print(codes)\n",
    "    poss_zip_codes = [code for code in codes if len(code) == 5]\n",
    "    print(poss_zip_codes)\n",
    "    \n",
    "    cardinal_dirs = ['north', 'south', 'east', 'west', ' n ', ' s ', ' e ', ' w ', ' n,', ' s,', ' e,', ' w,',\n",
    "                    ' n.', ' s.', ' e.', ' w.', ' n\\n', ' s\\n', ' e\\n', ' w\\n', 'northwest', ' northeast', 'southwest', 'southeast', ' nw ', ' ne ',\n",
    "                    ' sw ', ' se ', ' nw,', ' ne,', ' sw,', ' se,', ' nw.', ' ne.', ' sw.', ' se.', ' nw\\n', ' ne\\n', ' sw\\n', ' se\\n']\n",
    "    \n",
    "    newline = line\n",
    "    for a in address:\n",
    "        newline = newline.replace(str(a), '\"address\"')\n",
    "    for e in email:\n",
    "        newline = newline.replace(e, '\"email\"')\n",
    "    for p in phone:\n",
    "        newline = newline.replace(p, '\"phone\"')\n",
    "    for n in names:\n",
    "        newline = newline.replace(n, '\"name\"')\n",
    "    for c in codes: \n",
    "        newline = newline.replace(c, '\"numeric code\"')\n",
    "\n",
    "    outF.write(newline)\n",
    "\n",
    "outF.close()"
   ]
  },
  {
   "cell_type": "code",
   "execution_count": null,
   "metadata": {},
   "outputs": [],
   "source": []
  }
 ],
 "metadata": {
  "kernelspec": {
   "display_name": "Python 3",
   "language": "python",
   "name": "python3"
  },
  "language_info": {
   "codemirror_mode": {
    "name": "ipython",
    "version": 3
   },
   "file_extension": ".py",
   "mimetype": "text/x-python",
   "name": "python",
   "nbconvert_exporter": "python",
   "pygments_lexer": "ipython3",
   "version": "3.8.5"
  }
 },
 "nbformat": 4,
 "nbformat_minor": 4
}
