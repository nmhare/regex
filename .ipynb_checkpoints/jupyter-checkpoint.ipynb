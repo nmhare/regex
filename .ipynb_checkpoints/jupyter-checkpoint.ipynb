{
 "cells": [
  {
   "cell_type": "code",
   "execution_count": null,
   "metadata": {},
   "outputs": [],
   "source": [
    "import re\n",
    "import spacy\n",
    "import pandas as pd"
   ]
  },
  {
   "cell_type": "code",
   "execution_count": 71,
   "metadata": {},
   "outputs": [],
   "source": [
    "def findallnames(text: str, nlp):\n",
    "    named_entities = []\n",
    "    doc = nlp(text.strip())\n",
    "    for i in doc.ents:\n",
    "         if i.label_ == 'PERSON':                \n",
    "                named_entities.append(str(i))\n",
    "    return named_entities"
   ]
  },
  {
   "cell_type": "code",
   "execution_count": 77,
   "metadata": {},
   "outputs": [],
   "source": [
    "myfile = open('sample_string.txt', 'r')\n",
    "outF = open(\"myOutFile.txt\", \"w\")\n",
    "nlp = spacy.load('en_core_web_sm')\n",
    "lines = myfile.readlines()"
   ]
  },
  {
   "cell_type": "code",
   "execution_count": 78,
   "metadata": {},
   "outputs": [],
   "source": [
    "for line in lines:\n",
    "    # credit: u/buckley, \n",
    "    # https://stackoverflow.com/questions/34527917/extracting-phone-numbers-from-a-free-form-text-in-python-by-using-regex    \n",
    "    # credit: u/0x90, \n",
    "    # https://stackoverflow.com/questions/17681670/extract-email-sub-strings-from-large-document\n",
    "    \n",
    "    phone = re.findall(r'\\(?\\b[0-9]{3}\\)?[-./ ]?\\s*[0-9]{3}\\s*[-./ ]?\\s*[0-9]{4}\\b', line)\n",
    "    email = re.findall(r'[\\w.\\-\\+%]+@[\\w\\.\\+]+\\.\\w+', line)\n",
    "    names = findallnames(line, nlp)\n",
    "    newline = line\n",
    "\n",
    "    for e in email:\n",
    "        newline = newline.replace(e, '\"email\"')\n",
    "    for p in phone:\n",
    "        newline = newline.replace(p, '\"phone\"')\n",
    "    for n in names:\n",
    "        newline = newline.replace(n, '\"name\"')\n",
    "    outF.write(newline)\n",
    "\n",
    "outF.close()"
   ]
  },
  {
   "cell_type": "code",
   "execution_count": null,
   "metadata": {},
   "outputs": [],
   "source": []
  }
 ],
 "metadata": {
  "kernelspec": {
   "display_name": "Python 3",
   "language": "python",
   "name": "python3"
  },
  "language_info": {
   "codemirror_mode": {
    "name": "ipython",
    "version": 3
   },
   "file_extension": ".py",
   "mimetype": "text/x-python",
   "name": "python",
   "nbconvert_exporter": "python",
   "pygments_lexer": "ipython3",
   "version": "3.8.5"
  }
 },
 "nbformat": 4,
 "nbformat_minor": 4
}
